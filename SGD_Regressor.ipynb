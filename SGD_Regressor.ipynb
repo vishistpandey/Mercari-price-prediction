{
  "nbformat": 4,
  "nbformat_minor": 0,
  "metadata": {
    "colab": {
      "name": "SGD Regressor.ipynb",
      "provenance": [],
      "collapsed_sections": [],
      "machine_shape": "hm"
    },
    "kernelspec": {
      "name": "python3",
      "display_name": "Python 3"
    },
    "language_info": {
      "name": "python"
    },
    "accelerator": "TPU"
  },
  "cells": [
    {
      "cell_type": "code",
      "metadata": {
        "colab": {
          "base_uri": "https://localhost:8080/"
        },
        "id": "Ry5h9xrNy25r",
        "outputId": "28baf639-93cb-4ae7-83ff-7e96a571b3b8"
      },
      "source": [
        "!curl --header \"Host: doc-00-7c-docs.googleusercontent.com\" --header \"User-Agent: Mozilla/5.0 (Windows NT 10.0; Win64; x64) AppleWebKit/537.36 (KHTML, like Gecko) Chrome/92.0.4515.107 Safari/537.36\" --header \"Accept: text/html,application/xhtml+xml,application/xml;q=0.9,image/avif,image/webp,image/apng,*/*;q=0.8,application/signed-exchange;v=b3;q=0.9\" --header \"Accept-Language: en-US,en;q=0.9\" --header \"Cookie: AUTH_q4032iqu1jsg9ockb0a98liqou2gs1kl_nonce=j1jotasirbu06\" --header \"Connection: keep-alive\" \"https://doc-00-7c-docs.googleusercontent.com/docs/securesc/ff4hud39uruli0nvn2uljqpvbthrca3k/vh4prkvrhqh0kt8lejc1s4mpfl358sor/1627990950000/05393963687578437339/05393963687578437339/1WjsNie5IYiGhoGigbOcNohR-43eXttCS?e=download&authuser=0&nonce=j1jotasirbu06&user=05393963687578437339&hash=2bpfi46hjrmo51p9fuhbtkc04mjchnab\" -L -o \"X_test.pkl\""
      ],
      "execution_count": 9,
      "outputs": [
        {
          "output_type": "stream",
          "text": [
            "  % Total    % Received % Xferd  Average Speed   Time    Time     Time  Current\n",
            "                                 Dload  Upload   Total   Spent    Left  Speed\n",
            "100  111M    0  111M    0     0  46.3M      0 --:--:--  0:00:02 --:--:-- 46.3M\n"
          ],
          "name": "stdout"
        }
      ]
    },
    {
      "cell_type": "code",
      "metadata": {
        "colab": {
          "base_uri": "https://localhost:8080/"
        },
        "id": "LF7mKnY6zES0",
        "outputId": "99b8e505-db49-4419-89b9-dfedd9e7a23d"
      },
      "source": [
        "!curl --header \"Host: doc-10-7c-docs.googleusercontent.com\" --header \"User-Agent: Mozilla/5.0 (Windows NT 10.0; Win64; x64) AppleWebKit/537.36 (KHTML, like Gecko) Chrome/92.0.4515.107 Safari/537.36\" --header \"Accept: text/html,application/xhtml+xml,application/xml;q=0.9,image/avif,image/webp,image/apng,*/*;q=0.8,application/signed-exchange;v=b3;q=0.9\" --header \"Accept-Language: en-US,en;q=0.9\" --header \"Cookie: AUTH_q4032iqu1jsg9ockb0a98liqou2gs1kl=05393963687578437339|1627990950000|42ktiotue2b8kesrne1bthughj3saqr1\" --header \"Connection: keep-alive\" \"https://doc-10-7c-docs.googleusercontent.com/docs/securesc/ff4hud39uruli0nvn2uljqpvbthrca3k/pp7nar6nenf3n95fik9o0ivlptgomfrt/1627990950000/05393963687578437339/05393963687578437339/1gM6wrDtwvmU8u8NW_8I7ltMtWvUCcgx9?e=download&authuser=0\" -L -o \"X_train.pkl\"\n"
      ],
      "execution_count": 10,
      "outputs": [
        {
          "output_type": "stream",
          "text": [
            "  % Total    % Received % Xferd  Average Speed   Time    Time     Time  Current\n",
            "                                 Dload  Upload   Total   Spent    Left  Speed\n",
            "100  444M    0  444M    0     0   230M      0 --:--:--  0:00:01 --:--:--  230M\n"
          ],
          "name": "stdout"
        }
      ]
    },
    {
      "cell_type": "code",
      "metadata": {
        "colab": {
          "base_uri": "https://localhost:8080/"
        },
        "id": "b-NLA4hCzEVk",
        "outputId": "8e3e5aa2-69e6-45c9-ccc7-2195de82d571"
      },
      "source": [
        "!curl --header \"Host: doc-0s-7c-docs.googleusercontent.com\" --header \"User-Agent: Mozilla/5.0 (Windows NT 10.0; Win64; x64) AppleWebKit/537.36 (KHTML, like Gecko) Chrome/92.0.4515.107 Safari/537.36\" --header \"Accept: text/html,application/xhtml+xml,application/xml;q=0.9,image/avif,image/webp,image/apng,*/*;q=0.8,application/signed-exchange;v=b3;q=0.9\" --header \"Accept-Language: en-US,en;q=0.9\" --header \"Cookie: AUTH_q4032iqu1jsg9ockb0a98liqou2gs1kl=05393963687578437339|1627990950000|42ktiotue2b8kesrne1bthughj3saqr1\" --header \"Connection: keep-alive\" \"https://doc-0s-7c-docs.googleusercontent.com/docs/securesc/ff4hud39uruli0nvn2uljqpvbthrca3k/ei8pdke9ab6d4tij7jjm46csqegtjfds/1627991025000/05393963687578437339/05393963687578437339/12fPBJPFId5RceKz7U7d6Zu4HWtLHiQ5m?e=download&authuser=0\" -L -o \"y_test.pkl\""
      ],
      "execution_count": 11,
      "outputs": [
        {
          "output_type": "stream",
          "text": [
            "  % Total    % Received % Xferd  Average Speed   Time    Time     Time  Current\n",
            "                                 Dload  Upload   Total   Spent    Left  Speed\n",
            "100 6950k    0 6950k    0     0  28.3M      0 --:--:-- --:--:-- --:--:-- 28.3M\n"
          ],
          "name": "stdout"
        }
      ]
    },
    {
      "cell_type": "code",
      "metadata": {
        "colab": {
          "base_uri": "https://localhost:8080/"
        },
        "id": "srUhywEYzEaE",
        "outputId": "462157b4-0d42-4345-9e86-2a1cc48c9c0e"
      },
      "source": [
        "!curl --header \"Host: doc-0o-7c-docs.googleusercontent.com\" --header \"User-Agent: Mozilla/5.0 (Windows NT 10.0; Win64; x64) AppleWebKit/537.36 (KHTML, like Gecko) Chrome/92.0.4515.107 Safari/537.36\" --header \"Accept: text/html,application/xhtml+xml,application/xml;q=0.9,image/avif,image/webp,image/apng,*/*;q=0.8,application/signed-exchange;v=b3;q=0.9\" --header \"Accept-Language: en-US,en;q=0.9\" --header \"Cookie: AUTH_q4032iqu1jsg9ockb0a98liqou2gs1kl=05393963687578437339|1627990950000|42ktiotue2b8kesrne1bthughj3saqr1\" --header \"Connection: keep-alive\" \"https://doc-0o-7c-docs.googleusercontent.com/docs/securesc/ff4hud39uruli0nvn2uljqpvbthrca3k/f1a1f0je0bfhjpi78fjnihdje9k4nl1a/1627991025000/05393963687578437339/05393963687578437339/1pQVczqqAPgclwALEeu0RyjHxmieNTtR0?e=download&authuser=0\" -L -o \"y_train.pkl\""
      ],
      "execution_count": 12,
      "outputs": [
        {
          "output_type": "stream",
          "text": [
            "  % Total    % Received % Xferd  Average Speed   Time    Time     Time  Current\n",
            "                                 Dload  Upload   Total   Spent    Left  Speed\n",
            "100 27.1M    0 27.1M    0     0  19.7M      0 --:--:--  0:00:01 --:--:-- 19.7M\n"
          ],
          "name": "stdout"
        }
      ]
    },
    {
      "cell_type": "code",
      "metadata": {
        "colab": {
          "base_uri": "https://localhost:8080/"
        },
        "id": "OtbMi97J28UW",
        "outputId": "c5db85a9-931c-4cf8-b473-b9da7222635d"
      },
      "source": [
        "import pandas as pd\n",
        "import matplotlib.pyplot as plt\n",
        "import re\n",
        "import time\n",
        "import warnings\n",
        "import numpy as np\n",
        "from nltk.corpus import stopwords\n",
        "from sklearn.decomposition import TruncatedSVD\n",
        "from sklearn.preprocessing import normalize\n",
        "from sklearn.feature_extraction.text import CountVectorizer\n",
        "from sklearn.manifold import TSNE\n",
        "import seaborn as sns\n",
        "from sklearn.neighbors import KNeighborsClassifier\n",
        "from sklearn.metrics import confusion_matrix\n",
        "from sklearn.metrics.classification import accuracy_score, log_loss\n",
        "from sklearn.feature_extraction.text import TfidfVectorizer\n",
        "from sklearn.linear_model import SGDClassifier\n",
        "#from imblearn.over_sampling import SMOTE\n",
        "from collections import Counter\n",
        "from scipy.sparse import hstack\n",
        "#from sklearn.multiclass import OneVsRestClassifier\n",
        "from sklearn.svm import SVC\n",
        "#from sklearn.cross_validation import StratifiedKFold\n",
        "from sklearn.model_selection import StratifiedKFold\n",
        "from collections import Counter, defaultdict\n",
        "from sklearn.calibration import CalibratedClassifierCV\n",
        "from sklearn.naive_bayes import MultinomialNB\n",
        "from sklearn.naive_bayes import GaussianNB\n",
        "from sklearn.model_selection import train_test_split\n",
        "from sklearn.model_selection import GridSearchCV\n",
        "import math\n",
        "from sklearn.metrics import normalized_mutual_info_score\n",
        "#from sklearn.ensemble import RandomForestClassifier\n",
        "import seaborn as sns\n",
        "sns.set_style('whitegrid')\n",
        "import os\n",
        "from scipy import sparse\n",
        "from scipy.sparse import csr_matrix\n",
        "\n",
        "from sklearn.decomposition import TruncatedSVD\n",
        "from sklearn.metrics.pairwise import cosine_similarity\n",
        "import random\n",
        "from wordcloud import WordCloud\n",
        "import nltk\n",
        "from tqdm import tqdm\n",
        "warnings.filterwarnings(\"ignore\")\n",
        "\n",
        "#from mlxtend.classifier import StackingClassifier\n",
        "\n",
        "from sklearn import model_selection\n",
        "from sklearn.linear_model import LogisticRegression"
      ],
      "execution_count": 29,
      "outputs": [
        {
          "output_type": "stream",
          "text": [
            "/usr/local/lib/python3.7/dist-packages/sklearn/utils/deprecation.py:144: FutureWarning: The sklearn.metrics.classification module is  deprecated in version 0.22 and will be removed in version 0.24. The corresponding classes / functions should instead be imported from sklearn.metrics. Anything that cannot be imported from sklearn.metrics is now part of the private API.\n",
            "  warnings.warn(message, FutureWarning)\n"
          ],
          "name": "stderr"
        }
      ]
    },
    {
      "cell_type": "code",
      "metadata": {
        "id": "yJR_DP9izRoK"
      },
      "source": [
        "import pickle\n",
        "infile = open(\"X_train.pkl\",'rb')\n",
        "X_train = pickle.load(infile)\n",
        "infile.close()"
      ],
      "execution_count": 13,
      "outputs": []
    },
    {
      "cell_type": "code",
      "metadata": {
        "colab": {
          "base_uri": "https://localhost:8080/"
        },
        "id": "YLOftW8ozRuc",
        "outputId": "308d0d86-28c1-4406-c2de-47c1ee0236f9"
      },
      "source": [
        "X_train.shape"
      ],
      "execution_count": 14,
      "outputs": [
        {
          "output_type": "execute_result",
          "data": {
            "text/plain": [
              "(1186028, 26870)"
            ]
          },
          "metadata": {
            "tags": []
          },
          "execution_count": 14
        }
      ]
    },
    {
      "cell_type": "code",
      "metadata": {
        "id": "8KFuTF_KzRx0"
      },
      "source": [
        "import pickle\n",
        "infile = open(\"X_test.pkl\",'rb')\n",
        "X_test = pickle.load(infile)\n",
        "infile.close()"
      ],
      "execution_count": 15,
      "outputs": []
    },
    {
      "cell_type": "code",
      "metadata": {
        "colab": {
          "base_uri": "https://localhost:8080/"
        },
        "id": "3qUXUT-czR02",
        "outputId": "3c3e0eb1-f7c7-405d-aa2d-307f2f023bcd"
      },
      "source": [
        "X_test.shape"
      ],
      "execution_count": 16,
      "outputs": [
        {
          "output_type": "execute_result",
          "data": {
            "text/plain": [
              "(296507, 26870)"
            ]
          },
          "metadata": {
            "tags": []
          },
          "execution_count": 16
        }
      ]
    },
    {
      "cell_type": "code",
      "metadata": {
        "id": "4U-YWCCmzR3y"
      },
      "source": [
        "import pickle\n",
        "infile = open(\"y_test.pkl\",'rb')\n",
        "y_test = pickle.load(infile)\n",
        "infile.close()"
      ],
      "execution_count": 17,
      "outputs": []
    },
    {
      "cell_type": "code",
      "metadata": {
        "colab": {
          "base_uri": "https://localhost:8080/"
        },
        "id": "qqtqADr_zR6o",
        "outputId": "e7db13c8-3c1a-4088-880c-763330e7ae1b"
      },
      "source": [
        "y_test.shape"
      ],
      "execution_count": 18,
      "outputs": [
        {
          "output_type": "execute_result",
          "data": {
            "text/plain": [
              "(296507,)"
            ]
          },
          "metadata": {
            "tags": []
          },
          "execution_count": 18
        }
      ]
    },
    {
      "cell_type": "code",
      "metadata": {
        "id": "gfAkuZB5zR9i"
      },
      "source": [
        "import pickle\n",
        "infile = open(\"y_train.pkl\",'rb')\n",
        "y_train = pickle.load(infile)\n",
        "infile.close()"
      ],
      "execution_count": 19,
      "outputs": []
    },
    {
      "cell_type": "code",
      "metadata": {
        "colab": {
          "base_uri": "https://localhost:8080/"
        },
        "id": "myNOpq61zSAY",
        "outputId": "2c3a6995-5835-4ca7-dd45-ec89d132343f"
      },
      "source": [
        "y_train.shape"
      ],
      "execution_count": 20,
      "outputs": [
        {
          "output_type": "execute_result",
          "data": {
            "text/plain": [
              "(1186028,)"
            ]
          },
          "metadata": {
            "tags": []
          },
          "execution_count": 20
        }
      ]
    },
    {
      "cell_type": "markdown",
      "metadata": {
        "id": "5hEiepta2p75"
      },
      "source": [
        "### SGD Regressor\n"
      ]
    },
    {
      "cell_type": "code",
      "metadata": {
        "id": "FFfWwCfv0YyB"
      },
      "source": [
        "from sklearn.model_selection import GridSearchCV\n",
        "from sklearn.linear_model import SGDRegressor, Ridge"
      ],
      "execution_count": 23,
      "outputs": []
    },
    {
      "cell_type": "code",
      "metadata": {
        "colab": {
          "base_uri": "https://localhost:8080/"
        },
        "id": "CSbz2jEB0Y1J",
        "outputId": "ea71bd25-1ae3-48a7-e468-05e390a5c1fc"
      },
      "source": [
        "parameters = {\"alpha\":[0.00000001,0.00001,0.0001,0.001,0.01,0.1,0,1,10,100,1000,10000,100000],\n",
        "             \"l1_ratio\" : [0.2,0.3,0.4,0.5,0.6,0.7,0.8,0.9],\n",
        "             }\n",
        "model = SGDRegressor(\n",
        "                         loss='squared_loss',\n",
        "                     learning_rate='invscaling',\n",
        "                         max_iter=200,\n",
        "                         penalty='l2',\n",
        "                         fit_intercept=False\n",
        "                         )\n",
        "lr_reg = GridSearchCV(model,param_grid =parameters,n_jobs=-1)\n",
        "lr_reg.fit(X_train, y_train)"
      ],
      "execution_count": 24,
      "outputs": [
        {
          "output_type": "execute_result",
          "data": {
            "text/plain": [
              "GridSearchCV(cv=None, error_score=nan,\n",
              "             estimator=SGDRegressor(alpha=0.0001, average=False,\n",
              "                                    early_stopping=False, epsilon=0.1,\n",
              "                                    eta0=0.01, fit_intercept=False,\n",
              "                                    l1_ratio=0.15, learning_rate='invscaling',\n",
              "                                    loss='squared_loss', max_iter=200,\n",
              "                                    n_iter_no_change=5, penalty='l2',\n",
              "                                    power_t=0.25, random_state=None,\n",
              "                                    shuffle=True, tol=0.001,\n",
              "                                    validation_fraction=0.1, verbose=0,\n",
              "                                    warm_start=False),\n",
              "             iid='deprecated', n_jobs=-1,\n",
              "             param_grid={'alpha': [1e-08, 1e-05, 0.0001, 0.001, 0.01, 0.1, 0, 1,\n",
              "                                   10, 100, 1000, 10000, 100000],\n",
              "                         'l1_ratio': [0.2, 0.3, 0.4, 0.5, 0.6, 0.7, 0.8, 0.9]},\n",
              "             pre_dispatch='2*n_jobs', refit=True, return_train_score=False,\n",
              "             scoring=None, verbose=0)"
            ]
          },
          "metadata": {
            "tags": []
          },
          "execution_count": 24
        }
      ]
    },
    {
      "cell_type": "code",
      "metadata": {
        "colab": {
          "base_uri": "https://localhost:8080/"
        },
        "id": "c1SwuM_Z0Y4E",
        "outputId": "b7d25682-d9f4-4495-b1d4-00aa7951a74a"
      },
      "source": [
        "lr_reg.best_params_\n"
      ],
      "execution_count": 25,
      "outputs": [
        {
          "output_type": "execute_result",
          "data": {
            "text/plain": [
              "{'alpha': 0, 'l1_ratio': 0.7}"
            ]
          },
          "metadata": {
            "tags": []
          },
          "execution_count": 25
        }
      ]
    },
    {
      "cell_type": "code",
      "metadata": {
        "colab": {
          "base_uri": "https://localhost:8080/"
        },
        "id": "iQXOQ8Jv0Y9c",
        "outputId": "dab3bba9-37aa-4ee7-a883-4640b3539375"
      },
      "source": [
        "model = SGDRegressor(penalty='l2',\n",
        "                         loss='squared_loss',\n",
        "                     learning_rate='invscaling',\n",
        "                         max_iter=200,\n",
        "                         \n",
        "                         fit_intercept=False,\n",
        "                     alpha=0,\n",
        "                     l1_ratio=0.7\n",
        "                         )\n",
        "model.fit(X_train, y_train)"
      ],
      "execution_count": 26,
      "outputs": [
        {
          "output_type": "execute_result",
          "data": {
            "text/plain": [
              "SGDRegressor(alpha=0, average=False, early_stopping=False, epsilon=0.1,\n",
              "             eta0=0.01, fit_intercept=False, l1_ratio=0.7,\n",
              "             learning_rate='invscaling', loss='squared_loss', max_iter=200,\n",
              "             n_iter_no_change=5, penalty='l2', power_t=0.25, random_state=None,\n",
              "             shuffle=True, tol=0.001, validation_fraction=0.1, verbose=0,\n",
              "             warm_start=False)"
            ]
          },
          "metadata": {
            "tags": []
          },
          "execution_count": 26
        }
      ]
    },
    {
      "cell_type": "code",
      "metadata": {
        "colab": {
          "base_uri": "https://localhost:8080/"
        },
        "id": "vj1XdG_00ZAV",
        "outputId": "3d7a4923-6668-47bd-ae67-c26e4b5b38fc"
      },
      "source": [
        "import numpy as np\n",
        "from sklearn.metrics import mean_squared_error\n",
        "from sklearn.metrics import mean_absolute_error\n",
        "sgd_scores_val = model.predict(X_test)\n",
        "sgd_RMSLE = np.sqrt(mean_squared_error(y_test, sgd_scores_val))\n",
        "print(sgd_RMSLE)\n"
      ],
      "execution_count": 31,
      "outputs": [
        {
          "output_type": "stream",
          "text": [
            "0.4996538391880765\n"
          ],
          "name": "stdout"
        }
      ]
    },
    {
      "cell_type": "code",
      "metadata": {
        "id": "piWPnPub1y8f"
      },
      "source": [
        ""
      ],
      "execution_count": null,
      "outputs": []
    }
  ]
}